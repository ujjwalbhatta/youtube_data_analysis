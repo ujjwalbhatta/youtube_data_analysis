{
 "cells": [
  {
   "cell_type": "code",
   "execution_count": 151,
   "metadata": {},
   "outputs": [],
   "source": [
    "import pandas as pd \n",
    "from matplotlib import pyplot as plt "
   ]
  },
  {
   "cell_type": "code",
   "execution_count": 152,
   "metadata": {},
   "outputs": [],
   "source": [
    "df = pd.read_csv('netflix_vids.csv')"
   ]
  },
  {
   "cell_type": "code",
   "execution_count": 153,
   "metadata": {},
   "outputs": [
    {
     "data": {
      "text/html": [
       "<div>\n",
       "<style scoped>\n",
       "    .dataframe tbody tr th:only-of-type {\n",
       "        vertical-align: middle;\n",
       "    }\n",
       "\n",
       "    .dataframe tbody tr th {\n",
       "        vertical-align: top;\n",
       "    }\n",
       "\n",
       "    .dataframe thead th {\n",
       "        text-align: right;\n",
       "    }\n",
       "</style>\n",
       "<table border=\"1\" class=\"dataframe\">\n",
       "  <thead>\n",
       "    <tr style=\"text-align: right;\">\n",
       "      <th></th>\n",
       "      <th>Unnamed: 0</th>\n",
       "      <th>Video_ID</th>\n",
       "      <th>Views</th>\n",
       "      <th>Likes</th>\n",
       "      <th>Dislikes</th>\n",
       "      <th>Title</th>\n",
       "    </tr>\n",
       "  </thead>\n",
       "  <tbody>\n",
       "    <tr>\n",
       "      <th>0</th>\n",
       "      <td>0</td>\n",
       "      <td>zvqldRdmcXk</td>\n",
       "      <td>27510</td>\n",
       "      <td>811</td>\n",
       "      <td>467</td>\n",
       "      <td>Sam and Joelle Are BFF Goals</td>\n",
       "    </tr>\n",
       "    <tr>\n",
       "      <th>1</th>\n",
       "      <td>1</td>\n",
       "      <td>zvkBlw-jtS0</td>\n",
       "      <td>6159</td>\n",
       "      <td>96</td>\n",
       "      <td>26</td>\n",
       "      <td>New To Netflix Australia</td>\n",
       "    </tr>\n",
       "    <tr>\n",
       "      <th>2</th>\n",
       "      <td>2</td>\n",
       "      <td>zvXqSjBMMH8</td>\n",
       "      <td>18334</td>\n",
       "      <td>117</td>\n",
       "      <td>115</td>\n",
       "      <td>Pacific Heat</td>\n",
       "    </tr>\n",
       "    <tr>\n",
       "      <th>3</th>\n",
       "      <td>3</td>\n",
       "      <td>ztmGD7vfujw</td>\n",
       "      <td>20517</td>\n",
       "      <td>318</td>\n",
       "      <td>8</td>\n",
       "      <td>Marco Polo</td>\n",
       "    </tr>\n",
       "    <tr>\n",
       "      <th>4</th>\n",
       "      <td>4</td>\n",
       "      <td>zqVUafhQ4xc</td>\n",
       "      <td>344503</td>\n",
       "      <td>5198</td>\n",
       "      <td>479</td>\n",
       "      <td>Becoming</td>\n",
       "    </tr>\n",
       "    <tr>\n",
       "      <th>...</th>\n",
       "      <td>...</td>\n",
       "      <td>...</td>\n",
       "      <td>...</td>\n",
       "      <td>...</td>\n",
       "      <td>...</td>\n",
       "      <td>...</td>\n",
       "    </tr>\n",
       "    <tr>\n",
       "      <th>3916</th>\n",
       "      <td>3916</td>\n",
       "      <td>-7NrIUlD1YE</td>\n",
       "      <td>329219</td>\n",
       "      <td>6081</td>\n",
       "      <td>47</td>\n",
       "      <td>90s Teen Stars Turned TV Moms ft. Tia Mowry, M...</td>\n",
       "    </tr>\n",
       "    <tr>\n",
       "      <th>3917</th>\n",
       "      <td>3917</td>\n",
       "      <td>-7J7az7uTm4</td>\n",
       "      <td>624497</td>\n",
       "      <td>11315</td>\n",
       "      <td>641</td>\n",
       "      <td>New On Netflix US</td>\n",
       "    </tr>\n",
       "    <tr>\n",
       "      <th>3918</th>\n",
       "      <td>3918</td>\n",
       "      <td>-4YDUDhMcvM</td>\n",
       "      <td>169774</td>\n",
       "      <td>2711</td>\n",
       "      <td>176</td>\n",
       "      <td>Wanda Sykes: Not Normal</td>\n",
       "    </tr>\n",
       "    <tr>\n",
       "      <th>3919</th>\n",
       "      <td>3919</td>\n",
       "      <td>-377BctvQEI</td>\n",
       "      <td>74317</td>\n",
       "      <td>1333</td>\n",
       "      <td>91</td>\n",
       "      <td>Fan Theories</td>\n",
       "    </tr>\n",
       "    <tr>\n",
       "      <th>3920</th>\n",
       "      <td>3920</td>\n",
       "      <td>-0-yMdKZk5w</td>\n",
       "      <td>160065</td>\n",
       "      <td>1800</td>\n",
       "      <td>200</td>\n",
       "      <td>Bert Kreischer: Hey Big Boy</td>\n",
       "    </tr>\n",
       "  </tbody>\n",
       "</table>\n",
       "<p>3921 rows × 6 columns</p>\n",
       "</div>"
      ],
      "text/plain": [
       "      Unnamed: 0     Video_ID   Views  Likes  Dislikes  \\\n",
       "0              0  zvqldRdmcXk   27510    811       467   \n",
       "1              1  zvkBlw-jtS0    6159     96        26   \n",
       "2              2  zvXqSjBMMH8   18334    117       115   \n",
       "3              3  ztmGD7vfujw   20517    318         8   \n",
       "4              4  zqVUafhQ4xc  344503   5198       479   \n",
       "...          ...          ...     ...    ...       ...   \n",
       "3916        3916  -7NrIUlD1YE  329219   6081        47   \n",
       "3917        3917  -7J7az7uTm4  624497  11315       641   \n",
       "3918        3918  -4YDUDhMcvM  169774   2711       176   \n",
       "3919        3919  -377BctvQEI   74317   1333        91   \n",
       "3920        3920  -0-yMdKZk5w  160065   1800       200   \n",
       "\n",
       "                                                  Title  \n",
       "0                          Sam and Joelle Are BFF Goals  \n",
       "1                              New To Netflix Australia  \n",
       "2                                          Pacific Heat  \n",
       "3                                            Marco Polo  \n",
       "4                                              Becoming  \n",
       "...                                                 ...  \n",
       "3916  90s Teen Stars Turned TV Moms ft. Tia Mowry, M...  \n",
       "3917                                  New On Netflix US  \n",
       "3918                            Wanda Sykes: Not Normal  \n",
       "3919                                       Fan Theories  \n",
       "3920                        Bert Kreischer: Hey Big Boy  \n",
       "\n",
       "[3921 rows x 6 columns]"
      ]
     },
     "execution_count": 153,
     "metadata": {},
     "output_type": "execute_result"
    }
   ],
   "source": [
    "df"
   ]
  },
  {
   "cell_type": "code",
   "execution_count": 154,
   "metadata": {},
   "outputs": [],
   "source": [
    "# Unnamed column afaii aayo ... so hatauna \n",
    "\n",
    "df.drop(df.columns[df.columns.str.contains('Unnamed',case = False)],axis = 1, inplace = True) \n",
    "\n",
    "#OR \n",
    "#df = df.loc[:, ~df.columns.str.contains('^Unnamed')]"
   ]
  },
  {
   "cell_type": "code",
   "execution_count": 157,
   "metadata": {},
   "outputs": [
    {
     "data": {
      "text/html": [
       "<div>\n",
       "<style scoped>\n",
       "    .dataframe tbody tr th:only-of-type {\n",
       "        vertical-align: middle;\n",
       "    }\n",
       "\n",
       "    .dataframe tbody tr th {\n",
       "        vertical-align: top;\n",
       "    }\n",
       "\n",
       "    .dataframe thead th {\n",
       "        text-align: right;\n",
       "    }\n",
       "</style>\n",
       "<table border=\"1\" class=\"dataframe\">\n",
       "  <thead>\n",
       "    <tr style=\"text-align: right;\">\n",
       "      <th></th>\n",
       "      <th>Video_ID</th>\n",
       "      <th>Views</th>\n",
       "      <th>Likes</th>\n",
       "      <th>Dislikes</th>\n",
       "      <th>Title</th>\n",
       "    </tr>\n",
       "  </thead>\n",
       "  <tbody>\n",
       "    <tr>\n",
       "      <th>3224</th>\n",
       "      <td>ATf05n5LBHQ</td>\n",
       "      <td>42500016</td>\n",
       "      <td>531021</td>\n",
       "      <td>15487</td>\n",
       "      <td>Kaam 25: DIVINE</td>\n",
       "    </tr>\n",
       "    <tr>\n",
       "      <th>3413</th>\n",
       "      <td>7bfS6seiLhk</td>\n",
       "      <td>26088449</td>\n",
       "      <td>290964</td>\n",
       "      <td>11721</td>\n",
       "      <td>The Kissing Booth</td>\n",
       "    </tr>\n",
       "    <tr>\n",
       "      <th>1436</th>\n",
       "      <td>cSqi-8kAMmM</td>\n",
       "      <td>22664251</td>\n",
       "      <td>518571</td>\n",
       "      <td>74637</td>\n",
       "      <td>The Witcher</td>\n",
       "    </tr>\n",
       "    <tr>\n",
       "      <th>718</th>\n",
       "      <td>o2AsIXSh2xo</td>\n",
       "      <td>22331540</td>\n",
       "      <td>176232</td>\n",
       "      <td>7778</td>\n",
       "      <td>Bird Box</td>\n",
       "    </tr>\n",
       "    <tr>\n",
       "      <th>2221</th>\n",
       "      <td>R1ZXOOLMJ8s</td>\n",
       "      <td>21998271</td>\n",
       "      <td>374806</td>\n",
       "      <td>5737</td>\n",
       "      <td>Stranger Things 2</td>\n",
       "    </tr>\n",
       "    <tr>\n",
       "      <th>...</th>\n",
       "      <td>...</td>\n",
       "      <td>...</td>\n",
       "      <td>...</td>\n",
       "      <td>...</td>\n",
       "      <td>...</td>\n",
       "    </tr>\n",
       "    <tr>\n",
       "      <th>2370</th>\n",
       "      <td>OhNR-VB5myo</td>\n",
       "      <td>240</td>\n",
       "      <td>4</td>\n",
       "      <td>0</td>\n",
       "      <td>CRIP CAMP: A DISABILITY REVOLUTION</td>\n",
       "    </tr>\n",
       "    <tr>\n",
       "      <th>2164</th>\n",
       "      <td>RwFnfC5DK8s</td>\n",
       "      <td>195</td>\n",
       "      <td>5</td>\n",
       "      <td>0</td>\n",
       "      <td>Marriage Story</td>\n",
       "    </tr>\n",
       "    <tr>\n",
       "      <th>689</th>\n",
       "      <td>oXC8GPLkyyc</td>\n",
       "      <td>117</td>\n",
       "      <td>0</td>\n",
       "      <td>0</td>\n",
       "      <td>The Irishman</td>\n",
       "    </tr>\n",
       "    <tr>\n",
       "      <th>2738</th>\n",
       "      <td>I_yn8U7MDgA</td>\n",
       "      <td>113</td>\n",
       "      <td>2</td>\n",
       "      <td>1</td>\n",
       "      <td>The Two Popes</td>\n",
       "    </tr>\n",
       "    <tr>\n",
       "      <th>1392</th>\n",
       "      <td>d7QDWEe3xv4</td>\n",
       "      <td>102</td>\n",
       "      <td>28</td>\n",
       "      <td>6</td>\n",
       "      <td>Ultimate Beastmaster: Survival Of The Fittest</td>\n",
       "    </tr>\n",
       "  </tbody>\n",
       "</table>\n",
       "<p>3921 rows × 5 columns</p>\n",
       "</div>"
      ],
      "text/plain": [
       "         Video_ID     Views   Likes  Dislikes  \\\n",
       "3224  ATf05n5LBHQ  42500016  531021     15487   \n",
       "3413  7bfS6seiLhk  26088449  290964     11721   \n",
       "1436  cSqi-8kAMmM  22664251  518571     74637   \n",
       "718   o2AsIXSh2xo  22331540  176232      7778   \n",
       "2221  R1ZXOOLMJ8s  21998271  374806      5737   \n",
       "...           ...       ...     ...       ...   \n",
       "2370  OhNR-VB5myo       240       4         0   \n",
       "2164  RwFnfC5DK8s       195       5         0   \n",
       "689   oXC8GPLkyyc       117       0         0   \n",
       "2738  I_yn8U7MDgA       113       2         1   \n",
       "1392  d7QDWEe3xv4       102      28         6   \n",
       "\n",
       "                                              Title  \n",
       "3224                                Kaam 25: DIVINE  \n",
       "3413                              The Kissing Booth  \n",
       "1436                                    The Witcher  \n",
       "718                                        Bird Box  \n",
       "2221                              Stranger Things 2  \n",
       "...                                             ...  \n",
       "2370             CRIP CAMP: A DISABILITY REVOLUTION  \n",
       "2164                                 Marriage Story  \n",
       "689                                    The Irishman  \n",
       "2738                                  The Two Popes  \n",
       "1392  Ultimate Beastmaster: Survival Of The Fittest  \n",
       "\n",
       "[3921 rows x 5 columns]"
      ]
     },
     "execution_count": 157,
     "metadata": {},
     "output_type": "execute_result"
    }
   ],
   "source": [
    "df.sort_values(by='Views',ascending=False,inplace = True)\n",
    "df"
   ]
  },
  {
   "cell_type": "code",
   "execution_count": 158,
   "metadata": {},
   "outputs": [],
   "source": [
    "def search_movie(movie_name):\n",
    "    return(df['Title'] == movie_name)\n",
    "    "
   ]
  },
  {
   "cell_type": "code",
   "execution_count": 384,
   "metadata": {},
   "outputs": [],
   "source": [
    "filt = search_movie('Ultimate Beastmaster: Survival Of The Fittest') "
   ]
  },
  {
   "cell_type": "code",
   "execution_count": 385,
   "metadata": {},
   "outputs": [],
   "source": [
    "movie = df.loc[filt]"
   ]
  },
  {
   "cell_type": "code",
   "execution_count": 386,
   "metadata": {},
   "outputs": [
    {
     "data": {
      "text/html": [
       "<div>\n",
       "<style scoped>\n",
       "    .dataframe tbody tr th:only-of-type {\n",
       "        vertical-align: middle;\n",
       "    }\n",
       "\n",
       "    .dataframe tbody tr th {\n",
       "        vertical-align: top;\n",
       "    }\n",
       "\n",
       "    .dataframe thead th {\n",
       "        text-align: right;\n",
       "    }\n",
       "</style>\n",
       "<table border=\"1\" class=\"dataframe\">\n",
       "  <thead>\n",
       "    <tr style=\"text-align: right;\">\n",
       "      <th></th>\n",
       "      <th>Video_ID</th>\n",
       "      <th>Views</th>\n",
       "      <th>Likes</th>\n",
       "      <th>Dislikes</th>\n",
       "      <th>Title</th>\n",
       "    </tr>\n",
       "  </thead>\n",
       "  <tbody>\n",
       "    <tr>\n",
       "      <th>2767</th>\n",
       "      <td>IC0RzJLOogs</td>\n",
       "      <td>26648</td>\n",
       "      <td>362</td>\n",
       "      <td>28</td>\n",
       "      <td>Ultimate Beastmaster: Survival Of The Fittest</td>\n",
       "    </tr>\n",
       "    <tr>\n",
       "      <th>3764</th>\n",
       "      <td>1jvkBEWC4BM</td>\n",
       "      <td>16591</td>\n",
       "      <td>238</td>\n",
       "      <td>47</td>\n",
       "      <td>Ultimate Beastmaster: Survival Of The Fittest</td>\n",
       "    </tr>\n",
       "    <tr>\n",
       "      <th>503</th>\n",
       "      <td>rYg7x1VPI30</td>\n",
       "      <td>1043</td>\n",
       "      <td>30</td>\n",
       "      <td>5</td>\n",
       "      <td>Ultimate Beastmaster: Survival Of The Fittest</td>\n",
       "    </tr>\n",
       "    <tr>\n",
       "      <th>1392</th>\n",
       "      <td>d7QDWEe3xv4</td>\n",
       "      <td>102</td>\n",
       "      <td>28</td>\n",
       "      <td>6</td>\n",
       "      <td>Ultimate Beastmaster: Survival Of The Fittest</td>\n",
       "    </tr>\n",
       "  </tbody>\n",
       "</table>\n",
       "</div>"
      ],
      "text/plain": [
       "         Video_ID  Views  Likes  Dislikes  \\\n",
       "2767  IC0RzJLOogs  26648    362        28   \n",
       "3764  1jvkBEWC4BM  16591    238        47   \n",
       "503   rYg7x1VPI30   1043     30         5   \n",
       "1392  d7QDWEe3xv4    102     28         6   \n",
       "\n",
       "                                              Title  \n",
       "2767  Ultimate Beastmaster: Survival Of The Fittest  \n",
       "3764  Ultimate Beastmaster: Survival Of The Fittest  \n",
       "503   Ultimate Beastmaster: Survival Of The Fittest  \n",
       "1392  Ultimate Beastmaster: Survival Of The Fittest  "
      ]
     },
     "execution_count": 386,
     "metadata": {},
     "output_type": "execute_result"
    }
   ],
   "source": [
    "movie"
   ]
  },
  {
   "cell_type": "code",
   "execution_count": 387,
   "metadata": {},
   "outputs": [
    {
     "data": {
      "text/html": [
       "<div>\n",
       "<style scoped>\n",
       "    .dataframe tbody tr th:only-of-type {\n",
       "        vertical-align: middle;\n",
       "    }\n",
       "\n",
       "    .dataframe tbody tr th {\n",
       "        vertical-align: top;\n",
       "    }\n",
       "\n",
       "    .dataframe thead th {\n",
       "        text-align: right;\n",
       "    }\n",
       "</style>\n",
       "<table border=\"1\" class=\"dataframe\">\n",
       "  <thead>\n",
       "    <tr style=\"text-align: right;\">\n",
       "      <th></th>\n",
       "      <th>Video_ID</th>\n",
       "      <th>Views</th>\n",
       "      <th>Likes</th>\n",
       "      <th>Dislikes</th>\n",
       "      <th>Title</th>\n",
       "    </tr>\n",
       "  </thead>\n",
       "  <tbody>\n",
       "    <tr>\n",
       "      <th>2767</th>\n",
       "      <td>IC0RzJLOogs</td>\n",
       "      <td>26648</td>\n",
       "      <td>362</td>\n",
       "      <td>28</td>\n",
       "      <td>Ultimate Beastmaster: Survival Of The Fittest</td>\n",
       "    </tr>\n",
       "  </tbody>\n",
       "</table>\n",
       "</div>"
      ],
      "text/plain": [
       "         Video_ID  Views  Likes  Dislikes  \\\n",
       "2767  IC0RzJLOogs  26648    362        28   \n",
       "\n",
       "                                              Title  \n",
       "2767  Ultimate Beastmaster: Survival Of The Fittest  "
      ]
     },
     "execution_count": 387,
     "metadata": {},
     "output_type": "execute_result"
    }
   ],
   "source": [
    "# Jun ko views dherai xa tellaii select  \n",
    "\n",
    "filt1 = (movie['Views'] == movie['Views'].max())\n",
    "movie = movie.loc[filt1]\n",
    "movie"
   ]
  },
  {
   "cell_type": "code",
   "execution_count": 388,
   "metadata": {},
   "outputs": [],
   "source": [
    "# Title Extract"
   ]
  },
  {
   "cell_type": "code",
   "execution_count": 389,
   "metadata": {},
   "outputs": [
    {
     "data": {
      "text/plain": [
       "2767    Ultimate Beastmaster: Survival Of The Fittest\n",
       "Name: Title, dtype: object"
      ]
     },
     "execution_count": 389,
     "metadata": {},
     "output_type": "execute_result"
    }
   ],
   "source": [
    "movie['Title']  # gives result pandas series object "
   ]
  },
  {
   "cell_type": "code",
   "execution_count": 390,
   "metadata": {},
   "outputs": [
    {
     "data": {
      "text/html": [
       "<div>\n",
       "<style scoped>\n",
       "    .dataframe tbody tr th:only-of-type {\n",
       "        vertical-align: middle;\n",
       "    }\n",
       "\n",
       "    .dataframe tbody tr th {\n",
       "        vertical-align: top;\n",
       "    }\n",
       "\n",
       "    .dataframe thead th {\n",
       "        text-align: right;\n",
       "    }\n",
       "</style>\n",
       "<table border=\"1\" class=\"dataframe\">\n",
       "  <thead>\n",
       "    <tr style=\"text-align: right;\">\n",
       "      <th></th>\n",
       "      <th>Title</th>\n",
       "    </tr>\n",
       "  </thead>\n",
       "  <tbody>\n",
       "    <tr>\n",
       "      <th>2767</th>\n",
       "      <td>Ultimate Beastmaster: Survival Of The Fittest</td>\n",
       "    </tr>\n",
       "  </tbody>\n",
       "</table>\n",
       "</div>"
      ],
      "text/plain": [
       "                                              Title\n",
       "2767  Ultimate Beastmaster: Survival Of The Fittest"
      ]
     },
     "execution_count": 390,
     "metadata": {},
     "output_type": "execute_result"
    }
   ],
   "source": [
    "movie.get(['Title']) # gives result in dataframe "
   ]
  },
  {
   "cell_type": "code",
   "execution_count": 391,
   "metadata": {},
   "outputs": [],
   "source": [
    "a = movie.get(['Title'])\n",
    "t = str(a).split()[2:]"
   ]
  },
  {
   "cell_type": "code",
   "execution_count": 392,
   "metadata": {},
   "outputs": [
    {
     "data": {
      "text/plain": [
       "['Ultimate', 'Beastmaster:', 'Survival', 'Of', 'The', 'Fittest']"
      ]
     },
     "execution_count": 392,
     "metadata": {},
     "output_type": "execute_result"
    }
   ],
   "source": [
    "t"
   ]
  },
  {
   "cell_type": "code",
   "execution_count": 393,
   "metadata": {},
   "outputs": [
    {
     "data": {
      "text/plain": [
       "'Ultimate Beastmaster: Survival Of The Fittest'"
      ]
     },
     "execution_count": 393,
     "metadata": {},
     "output_type": "execute_result"
    }
   ],
   "source": [
    "' '.join(t)"
   ]
  },
  {
   "cell_type": "code",
   "execution_count": 394,
   "metadata": {},
   "outputs": [],
   "source": [
    "#Mathi ko idea lai use garera title nikalna"
   ]
  },
  {
   "cell_type": "code",
   "execution_count": 395,
   "metadata": {},
   "outputs": [
    {
     "data": {
      "text/plain": [
       "'Ultimate Beastmaster: Survival Of The Fittest'"
      ]
     },
     "execution_count": 395,
     "metadata": {},
     "output_type": "execute_result"
    }
   ],
   "source": [
    "x = movie.get(['Title'])\n",
    "y =  str(x).split()[2:]\n",
    "title=' '.join(y)\n",
    "title"
   ]
  },
  {
   "cell_type": "code",
   "execution_count": 396,
   "metadata": {},
   "outputs": [
    {
     "name": "stdout",
     "output_type": "stream",
     "text": [
      "362 28\n"
     ]
    },
    {
     "data": {
      "image/png": "[encoded data removed]",
      "text/plain": [
       "<Figure size 432x288 with 1 Axes>"
      ]
     },
     "metadata": {},
     "output_type": "display_data"
    }
   ],
   "source": [
    "plt.style.use(\"fivethirtyeight\")\n",
    "\n",
    "a = int(movie['Likes'])\n",
    "b = int(movie['Dislikes'])\n",
    "print(a,b)\n",
    "\n",
    "slices = [a,b]\n",
    "labels = ['Likes','Dislikes']\n",
    "\n",
    "explode = [0,0.1]    #To emphasize a piece ; Here Python is emphasized\n",
    "\n",
    "\n",
    "plt.pie(slices ,labels=labels, explode=explode,shadow=True,autopct='%1.1f%%', wedgeprops={'edgecolor':'black'})\n",
    "\n",
    "x = movie.get(['Title'])\n",
    "y =  str(x).split()[2:]\n",
    "title=' '.join(y)\n",
    "\n",
    "plt.title(str(title))\n",
    "plt.tight_layout()\n",
    "plt.show()\n"
   ]
  },
  {
   "cell_type": "code",
   "execution_count": null,
   "metadata": {},
   "outputs": [],
   "source": []
  },
  {
   "cell_type": "code",
   "execution_count": null,
   "metadata": {},
   "outputs": [],
   "source": []
  }
 ],
 "metadata": {
  "kernelspec": {
   "display_name": "Python 3",
   "language": "python",
   "name": "python3"
  },
  "language_info": {
   "codemirror_mode": {
    "name": "ipython",
    "version": 3
   },
   "file_extension": ".py",
   "mimetype": "text/x-python",
   "name": "python",
   "nbconvert_exporter": "python",
   "pygments_lexer": "ipython3",
   "version": "3.8.2"
  }
 },
 "nbformat": 4,
 "nbformat_minor": 4
}
